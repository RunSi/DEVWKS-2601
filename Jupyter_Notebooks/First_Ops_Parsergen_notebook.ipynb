{
 "cells": [
  {
   "cell_type": "markdown",
   "metadata": {},
   "source": [
    "### The Topology\n",
    "\n",
    "Prior to initiating any tests then the network needs to be described in a Topology File. \n",
    "\n",
    "\n",
    "The topology file is written in yaml and will describe attributes of your test network, \n",
    "such as device type, login details, login method, links between devices etc.  \n",
    "\n",
    "The GENIE Topology object is created by issuing the following commands:-"
   ]
  },
  {
   "cell_type": "code",
   "execution_count": null,
   "metadata": {},
   "outputs": [],
   "source": [
    "from genie.conf import Genie\n",
    "\n",
    "testbed = Genie.init('../scripts/vagrant_single_ios.yaml')"
   ]
  },
  {
   "cell_type": "markdown",
   "metadata": {},
   "source": [
    "The topology object that has been created is called testbed.  Now look at some of the attributes\n",
    "of the topology object by issuing the following commands"
   ]
  },
  {
   "cell_type": "code",
   "execution_count": null,
   "metadata": {},
   "outputs": [],
   "source": [
    "testbed.devices \n",
    "\n",
    "testbed.name \n",
    "\n",
    "testbed.interfaces"
   ]
  },
  {
   "cell_type": "markdown",
   "metadata": {},
   "source": [
    "The topology file has numerous attributes, objects and methods, to view these then in the iPython session type\n",
    "**testbed.** and press tab.  Alternatively you can issue the following command within iPython"
   ]
  },
  {
   "cell_type": "code",
   "execution_count": null,
   "metadata": {},
   "outputs": [],
   "source": [
    "dir(testbed)"
   ]
  },
  {
   "cell_type": "markdown",
   "metadata": {},
   "source": [
    "To explore further attributes and methods then enter the following within iPython (or tab completion)"
   ]
  },
  {
   "cell_type": "code",
   "execution_count": null,
   "metadata": {},
   "outputs": [],
   "source": [
    "dir(testbed.devices)"
   ]
  },
  {
   "cell_type": "markdown",
   "metadata": {},
   "source": [
    "You will see that from issuing this command that testbed.devices has number of attributes/objects/methods, of note are\n",
    "_iosxe1_ and _iosxe2_\n",
    "\n",
    "You should see are large number of attributes/objects/methods.  Of particular note is the _connect_ method.  We shall be using the \n",
    "_connect_ method to establishing connectivity with our testbed devices in forthcoming exercises."
   ]
  },
  {
   "cell_type": "code",
   "execution_count": null,
   "metadata": {},
   "outputs": [],
   "source": [
    "dir(testbed.devices.iosxe1)"
   ]
  },
  {
   "cell_type": "markdown",
   "metadata": {},
   "source": [
    "### GENIE OPS Library\n",
    "\n",
    "\n",
    "The GENIE OPS Library is used to represent a device/feature's operational state/data through a Python Object. \n",
    "Each feature on each device is represented via a single Ops object instance, where state/status \n",
    "information is stored as an object attribute.\n",
    "\n",
    "Ops objects are snapshots of a particular feature on a particular device at a specific time.\n",
    " \n",
    "To demonstrate the power of the GENIE OPS library then please follow the sections below.\n",
    "\n",
    "To start make sure that your Python Virtual Environment is still running from step 2 and that you are in \n",
    "the scripts directory.\n",
    "Initiate an iPython interactive session"
   ]
  },
  {
   "cell_type": "code",
   "execution_count": null,
   "metadata": {},
   "outputs": [],
   "source": [
    "from pprint import pprint\n",
    "from genie.conf import Genie\n",
    "\n",
    "from genie.libs.ops.interface.iosxe.interface import Interface\n",
    "\n",
    "testbed = Genie.init('../scripts/vagrant_single_ios.yaml')"
   ]
  },
  {
   "cell_type": "markdown",
   "metadata": {},
   "source": [
    "The commands above will:-\n",
    "\n",
    "* Import the pprint library so as to 'pretty print' structured data to make it more easily readable\n",
    "* From genie.conf import the Genie Class\n",
    "* Import the Operational Model for IOSXE Interfaces\n",
    "* Initiate the testbed file in order to interact with the testbed devices\n",
    "\n",
    "\n",
    "Access to the devices needs to be established prior to sending any additional GENIE API calls to the device, leveraging\n",
    "the topology _connect_ method. \n",
    "\n",
    "First make a reference to the topology device object"
   ]
  },
  {
   "cell_type": "code",
   "execution_count": null,
   "metadata": {},
   "outputs": [],
   "source": [
    "uut = testbed.devices.iosxe1"
   ]
  },
  {
   "cell_type": "markdown",
   "metadata": {},
   "source": [
    "As mentioned previously the device object has a method called connect.  Using the connect method will establish a connection to the device\n",
    "using the connection method described in the topology yaml file, in this case _ssh_.  You will know that a connection is successful with the \n",
    "output from the device being displayed in the interactive session. Once connection is made the device will be prepared \n",
    "for further calls on the device."
   ]
  },
  {
   "cell_type": "code",
   "execution_count": null,
   "metadata": {},
   "outputs": [],
   "source": [
    "uut.connect()"
   ]
  },
  {
   "cell_type": "markdown",
   "metadata": {},
   "source": [
    "### Learn the state of the interfaces on the device under test (iosxe1)\n",
    "\n",
    "First an interface Ops object needs to instantiated.  The argument for instantiating the object is the device that is\n",
    "being tested, defined earlier as _uut_."
   ]
  },
  {
   "cell_type": "code",
   "execution_count": null,
   "metadata": {},
   "outputs": [],
   "source": [
    "interface = Interface(device=uut)"
   ]
  },
  {
   "cell_type": "markdown",
   "metadata": {},
   "source": [
    "The _interface_ object that has been instantiated has a **learn** method.  The learn method will send several \n",
    "relevant show commands to an IOSXE device.  The output of the show commands will be parsed and collated and subsequently stored\n",
    "as a single structured data entity(dictionary)."
   ]
  },
  {
   "cell_type": "code",
   "execution_count": null,
   "metadata": {},
   "outputs": [],
   "source": [
    "interface.learn()"
   ]
  },
  {
   "cell_type": "markdown",
   "metadata": {},
   "source": [
    "The data that is parsed and collated is stored as a single entry under the _info_ attribute of the interface object.\n",
    "  \n",
    "To view all the returned data:-"
   ]
  },
  {
   "cell_type": "code",
   "execution_count": null,
   "metadata": {},
   "outputs": [],
   "source": [
    "pprint(interface.info)"
   ]
  },
  {
   "cell_type": "markdown",
   "metadata": {},
   "source": [
    "From the above output you should recognise that the data is now stored as a dictionary and thus the values can be \n",
    "retrieved by referencing the relevant key.\n",
    "\n",
    "For example:-"
   ]
  },
  {
   "cell_type": "code",
   "execution_count": null,
   "metadata": {},
   "outputs": [],
   "source": [
    "pprint(interface.info['nve1'])"
   ]
  },
  {
   "cell_type": "markdown",
   "metadata": {},
   "source": [
    "And:-\n",
    "    "
   ]
  },
  {
   "cell_type": "code",
   "execution_count": null,
   "metadata": {},
   "outputs": [],
   "source": [
    "pprint(interface.info['nve1']['phys_address'])"
   ]
  },
  {
   "cell_type": "markdown",
   "metadata": {},
   "source": [
    "**Partial retrieval of Ops data**\n",
    "\n",
    "Rather than retrieving the entire state you can choose to only save the attributes you require for the interface.  \n",
    "For example we only wish to retrieve the Mac Addresses of the interfaces.  To achieve this"
   ]
  },
  {
   "cell_type": "code",
   "execution_count": null,
   "metadata": {},
   "outputs": [],
   "source": [
    "interface = Interface(device=uut, attributes=['info[(.*)][mac_address]'])"
   ]
  },
  {
   "cell_type": "markdown",
   "metadata": {},
   "source": [
    "Now 'relearn' the interface object and display the output"
   ]
  },
  {
   "cell_type": "code",
   "execution_count": null,
   "metadata": {},
   "outputs": [],
   "source": [
    "interface.learn()"
   ]
  },
  {
   "cell_type": "code",
   "execution_count": null,
   "metadata": {},
   "outputs": [],
   "source": [
    "pprint(interface.info)"
   ]
  },
  {
   "cell_type": "markdown",
   "metadata": {},
   "source": [
    "**Verify State**\n",
    "\n",
    "A very useful feature of the Ops object is to verify the condition of a particular state.  \n",
    "\n",
    "The code below creates a function that checks the current oper_status of GigabitEthernet3.  \n",
    "\n",
    "If the oper_status is up, then the verification is successful it will print that Gig3 is up and return to the main body of the\n",
    "code.  \n",
    "\n",
    "If the oper_status is down it will learn the interface state 3 more times with a sleep interval of 3 seconds, if after 3 attempts\n",
    "the interface is still down then an Exception will be raised.\n",
    "\n",
    "Enter the code as is below to your iPython session\n"
   ]
  },
  {
   "cell_type": "code",
   "execution_count": null,
   "metadata": {},
   "outputs": [],
   "source": [
    "interface = Interface(device=uut)\n",
    "\n",
    "def verify_interface_status(obj):\n",
    "    if obj.info['GigabitEthernet3'].get('oper_status', None) and\\\n",
    "       obj.info['GigabitEthernet3']['oper_status'] == 'up':\n",
    "       print('\\n\\nGig 3 is up')\n",
    "       return\n",
    "    raise Exception('Gig 3 is currently down')\n",
    "    \n",
    "interface.learn_poll(verify=verify_interface_status, sleep=3, attempt=3)"
   ]
  },
  {
   "cell_type": "markdown",
   "metadata": {},
   "source": [
    "If the lab you are using is the Sandbox - ssh cisco@10.10.20.48   password cisco_1234!  \n",
    "\n",
    "If the lab you are using is a local vagrant machine - ssh -p 3122 vagrant@127.0.0.1 vagrant\n",
    "\n",
    "and...\n",
    "\n",
    "conf t  \n",
    "interface GigabitEthernet3  \n",
    "shutdown"
   ]
  },
  {
   "cell_type": "code",
   "execution_count": null,
   "metadata": {},
   "outputs": [],
   "source": [
    "interface = Interface(device=uut)\n",
    "\n",
    "def verify_interface_status(obj):\n",
    "    if obj.info['GigabitEthernet3'].get('oper_status', None) and\\\n",
    "       obj.info['GigabitEthernet3']['oper_status'] == 'up':\n",
    "       print('\\n\\nGig 3 is up')\n",
    "       return\n",
    "    raise Exception('Gig 3 is currently down')\n",
    "    \n",
    "interface.learn_poll(verify=verify_interface_status, sleep=3, attempt=3)\n"
   ]
  },
  {
   "cell_type": "markdown",
   "metadata": {},
   "source": [
    "**Compare State**\n",
    "\n",
    "In order to determine what state has changed over time we can compare 'snapshots'.  Consider that each time you \n",
    "initiate the learn method, you are effectively taking a snapshot of current state.  \n",
    "\n",
    "The code below will demonstrate, please enter into iPython:-"
   ]
  },
  {
   "cell_type": "code",
   "execution_count": null,
   "metadata": {},
   "outputs": [],
   "source": [
    "interface_after = Interface(device=uut, attributes=['info[(.*)][bandwidth]'])\n",
    "interface_after.learn()"
   ]
  },
  {
   "cell_type": "markdown",
   "metadata": {},
   "source": [
    "Now in a seperate terminal ssh into your device\n",
    "\n",
    "If the lab you are using is the Sandbox - ssh cisco@10.10.20.48   password cisco_1234!  \n",
    "\n",
    "If the lab you are using is a local vagrant machine - ssh -p 3122 vagrant@127.0.0.1 vagrant\n",
    "\n",
    "and......\n",
    "\n",
    "conf t  \n",
    "interface GigabitEthernet3  \n",
    "bandwidth 50000"
   ]
  },
  {
   "cell_type": "markdown",
   "metadata": {},
   "source": [
    "Now enter the following code:-"
   ]
  },
  {
   "cell_type": "code",
   "execution_count": null,
   "metadata": {},
   "outputs": [],
   "source": [
    "interface_before = Interface(device=uut, attributes=['info[(.*)][bandwidth]'])\n",
    "interface_before.learn()"
   ]
  },
  {
   "cell_type": "markdown",
   "metadata": {},
   "source": [
    "And finally compare the two by entering the following code:-"
   ]
  },
  {
   "cell_type": "code",
   "execution_count": null,
   "metadata": {},
   "outputs": [],
   "source": [
    "diff = interface_after.diff(interface_before)\n",
    "print(diff)"
   ]
  },
  {
   "cell_type": "markdown",
   "metadata": {},
   "source": [
    "Disconnect from the device"
   ]
  },
  {
   "cell_type": "code",
   "execution_count": null,
   "metadata": {},
   "outputs": [],
   "source": [
    "uut.disconnect()"
   ]
  },
  {
   "cell_type": "markdown",
   "metadata": {},
   "source": [
    "**Conclusion**\n",
    "\n",
    "As demonstrated the Ops library is an extremely useful set of tools for retrieving state data from your devices.  The\n",
    "preceding exercise only explored the Ops _Model_ for IOSXE Interfaces.  There are hundreds of further models at your disposal\n",
    "that support a vast range of features across IOSXE, IOSXR and NXOS.  To view the available models please go to [Model Wiki](https://pubhub.devnetcloud.com/media/pyats-packages/docs/genie/genie_libs/#/models)\n"
   ]
  }
 ],
 "metadata": {
  "kernelspec": {
   "display_name": "Python 3",
   "language": "python",
   "name": "python3"
  },
  "language_info": {
   "codemirror_mode": {
    "name": "ipython",
    "version": 3
   },
   "file_extension": ".py",
   "mimetype": "text/x-python",
   "name": "python",
   "nbconvert_exporter": "python",
   "pygments_lexer": "ipython3",
   "version": "3.6.5"
  }
 },
 "nbformat": 4,
 "nbformat_minor": 2
}
