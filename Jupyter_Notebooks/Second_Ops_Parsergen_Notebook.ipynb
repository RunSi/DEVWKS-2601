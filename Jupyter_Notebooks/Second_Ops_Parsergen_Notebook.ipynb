{
 "cells": [
  {
   "cell_type": "markdown",
   "metadata": {},
   "source": [
    "### GENIE Parsergen\n",
    "\n",
    "\n",
    "In addition to using the Ops package to retrieve and parse operational state of a device, the Genie Parsergen Class provides \n",
    "a one-step parsing mechanism that is capable of parsing dynamic tabular and non-tabular device outputs in a “noticeably” \n",
    "less lines of code compared to standard parsing mechanisms.  \n",
    "\n",
    "\n",
    "The Parsergen Class is particularly useful where Genie Ops does not have a model for the particular state you are \n",
    "looking to parse.  \n",
    "As an example there is currently no Genie Ops Model for NVE/VXLAN.  This gap can be overcome by creating the parser that can \n",
    " then be leveraged by pyATS/GENIE.  \n",
    " \n",
    "The object of the remaining exercises is to \n",
    "* Parse VXLAN relevant state\n",
    "* Create an Ops library\n",
    "* Run a pyATS easypy script to test condition of VXLAN state\n",
    "\n",
    "\n",
    "###Tabular Parsing\n",
    "\n",
    "The Genie Parsergen Class can deal with both Tabular and Non Tabular device output from a networking device. We \n",
    "shall initially explore Tabular parsing\n",
    "\n",
    "Consider the output from the show command 'show nve vni'\n",
    "\n",
    "```\n",
    "Interface  VNI        Multicast-group VNI state  Mode  BD    cfg vrf                      \n",
    "nve1       6001       N/A             Up         L2DP  1     CLI N/A \n",
    "```\n",
    "\n",
    "As can been seen above this is a column based/tabular output.  In order to parse this output we need to instruct\n",
    "parsergen as to the titles of the columns.  Follow the commands below to parse the command 'show nve vni'"
   ]
  },
  {
   "cell_type": "markdown",
   "metadata": {},
   "source": [
    "As in previous sections initiate the testbed topology and import the relevant libraries for this exercise"
   ]
  },
  {
   "cell_type": "code",
   "execution_count": null,
   "metadata": {},
   "outputs": [],
   "source": [
    "import pprint\n",
    "from genie.conf import Genie\n",
    "from genie import parsergen\n",
    "\n",
    "from genie.libs.ops.interface.iosxe.interface import Interface\n",
    "\n",
    "testbed = Genie.init('../scripts/vagrant_single_ios.yaml')\n",
    "uut = testbed.devices.iosxe1\n",
    "uut.connect()"
   ]
  },
  {
   "cell_type": "markdown",
   "metadata": {},
   "source": [
    "The testbed object 'uut.device' has a method of execute.  Execute will run the command on the device and return\n",
    "a string as the result of the command"
   ]
  },
  {
   "cell_type": "code",
   "execution_count": null,
   "metadata": {},
   "outputs": [],
   "source": [
    "output = uut.device.execute('show nve vni')"
   ]
  },
  {
   "cell_type": "markdown",
   "metadata": {},
   "source": [
    "A list identifying the headers of the expected column output is created"
   ]
  },
  {
   "cell_type": "code",
   "execution_count": null,
   "metadata": {},
   "outputs": [],
   "source": [
    "header = ['Interface', 'VNI', 'Multicast-group', 'VNI state', 'Mode', 'BD', 'cfg', 'vrf']"
   ]
  },
  {
   "cell_type": "markdown",
   "metadata": {},
   "source": [
    "We will now use the parsergen oper_fill_tabular method to parse the string and store as structured data"
   ]
  },
  {
   "cell_type": "code",
   "execution_count": null,
   "metadata": {},
   "outputs": [],
   "source": [
    "result = parsergen.oper_fill_tabular(device_output=output, device_os='iosxe', header_fields=header, index=[0])"
   ]
  },
  {
   "cell_type": "markdown",
   "metadata": {},
   "source": [
    "Now print the structured data returned"
   ]
  },
  {
   "cell_type": "code",
   "execution_count": null,
   "metadata": {},
   "outputs": [],
   "source": [
    "pprint.pprint(result.entries)"
   ]
  },
  {
   "cell_type": "markdown",
   "metadata": {},
   "source": [
    "Determine the type of the result object entries attribute"
   ]
  },
  {
   "cell_type": "code",
   "execution_count": null,
   "metadata": {},
   "outputs": [],
   "source": [
    "type(result.entries)"
   ]
  },
  {
   "cell_type": "markdown",
   "metadata": {},
   "source": [
    "As you will see the returned data is now structured data in the form of a dictionary"
   ]
  },
  {
   "cell_type": "markdown",
   "metadata": {},
   "source": [
    "### GENIE Non Tabular Parsing\n",
    "\n",
    "Not all output from the device will be in tabular form.  Parsergen can deal with non tabular\n",
    "returned data.  \n",
    "Parsergen tries to match a given set of data using regular expressions that describe the values found\n",
    "in the show command output.\n",
    "\n",
    "Consider the following output from the _show nve interface nve 1_ .  \n",
    "We shall parse the data to retrieve Source_Interface and Primary address based upon an encapsulation of Vxlan\n",
    "\n",
    "```bash\n",
    "\n",
    "Interface: nve1, State: Admin Up, Oper Up, Encapsulation: Vxlan,\n",
    "BGP host reachability: Disable, VxLAN dport: 4789\n",
    "VNI number: L3CP 0 L2CP 0 L2DP 1\n",
    "source-interface: Loopback10 (primary:172.16.10.1 vrf:0)\n",
    "```\n",
    "\n",
    "There are two methods by which we can retrieve this data - Manual regular expressions and Markup\n"
   ]
  },
  {
   "cell_type": "markdown",
   "metadata": {},
   "source": [
    "### Using Regular Expressions manually\n",
    "\n",
    "\n",
    "To start make sure that your Python Virtual Environment is still running from step 4 and that you are in \n",
    "the scripts directory.\n",
    "Initiate an iPython interactive session and intialise the testbed"
   ]
  },
  {
   "cell_type": "code",
   "execution_count": null,
   "metadata": {},
   "outputs": [],
   "source": [
    "from pprint import pprint\n",
    "from genie.conf import Genie\n",
    "from genie import parsergen\n",
    "\n",
    "testbed = Genie.init('../scripts/vagrant_single_ios.yaml')\n",
    "uut = testbed.devices.iosxe1\n",
    "uut.connect()"
   ]
  },
  {
   "cell_type": "markdown",
   "metadata": {},
   "source": [
    "Create a dictionary of show commands. Only one show command for IOSXE in this instance"
   ]
  },
  {
   "cell_type": "code",
   "execution_count": null,
   "metadata": {},
   "outputs": [],
   "source": [
    "show_cmds = {\n",
    "     'iosxe': {\n",
    "        'show_int' : \"show nve interface {}\",\n",
    "     }\n",
    "}"
   ]
  },
  {
   "cell_type": "markdown",
   "metadata": {},
   "source": [
    "Create a dictionary of regular expressions to capture the elements required in the output. The \n",
    "example has regular expressions that will capture the encapsulation type, the source interface and the primary address.  \n",
    "As useful tool for creating and validing python _re_ based regular expressions can be found here: [Pythex](https://pythex.org/)"
   ]
  },
  {
   "cell_type": "code",
   "execution_count": null,
   "metadata": {},
   "outputs": [],
   "source": [
    "regex = {\n",
    "\n",
    "    'iosxe': {\n",
    "        'nve.intf.if_encap': r'[a-zA-Z0-9\\:\\,\\s]+Encapsulation:\\s+(\\w+),',\n",
    "        'nve.intf.source_intf': r'^source-interface:\\s+(\\w+)',\n",
    "        'nve.intf.primary': r'[a-zA-Z0-9\\:\\,a-zA-Z0-9\\s]+\\(primary:([A-Fa-f0-9:\\.]+)'\n",
    "     }\n",
    "}\n",
    "\n",
    "regex_tags = {\n",
    "    'iosxe': ['nve.intf.if_encap',  'nve.intf.source_intf', 'nve.intf.primary']\n",
    "    }\n"
   ]
  },
  {
   "cell_type": "markdown",
   "metadata": {},
   "source": [
    "'Extend' the Parsergen Class to include the show commands and the regular expressions"
   ]
  },
  {
   "cell_type": "code",
   "execution_count": null,
   "metadata": {},
   "outputs": [],
   "source": [
    "parsergen.extend(show_cmds=show_cmds, regex_ext=regex, regex_tags=regex_tags)"
   ]
  },
  {
   "cell_type": "markdown",
   "metadata": {},
   "source": [
    "Now determine the parameters you wish to start the regex search on. The first item in the \n",
    "tuple is the key name of the regex value, the second item is the value being searched in this\n",
    "case all interfaces with Vxlan encapsulation"
   ]
  },
  {
   "cell_type": "code",
   "execution_count": null,
   "metadata": {},
   "outputs": [],
   "source": [
    "attrValPairsToParse = [('nve.intf.if_encap', 'Vxlan')]"
   ]
  },
  {
   "cell_type": "markdown",
   "metadata": {},
   "source": [
    "Finally we create the object pgfill by calling the _parsergen.oper\\_fill_ method is called.  The arguments in this method will\n",
    "* determine the device to be called (uut)\n",
    "* determine which show command to call from the key show_int and use nve1 as the interface name for the show command\n",
    "* Provide the attribute value pairs to search on\n",
    "* And use the defined regular expressions that begin with _nve.intf_"
   ]
  },
  {
   "cell_type": "code",
   "execution_count": null,
   "metadata": {},
   "outputs": [],
   "source": [
    "pgfill = parsergen.oper_fill (\n",
    "    uut,\n",
    "    ('show_int', ['nve1']),\n",
    "    attrValPairsToParse,\n",
    "    refresh_cache=True,\n",
    "    regex_tag_fill_pattern='nve\\.intf')"
   ]
  },
  {
   "cell_type": "markdown",
   "metadata": {},
   "source": [
    "Now enter the parse method for pgfill to populate parsergen ext_dictio attribute with the parsed items"
   ]
  },
  {
   "cell_type": "code",
   "execution_count": null,
   "metadata": {},
   "outputs": [],
   "source": [
    "pgfill.parse()"
   ]
  },
  {
   "cell_type": "markdown",
   "metadata": {},
   "source": [
    "Display the completed parse with"
   ]
  },
  {
   "cell_type": "code",
   "execution_count": null,
   "metadata": {},
   "outputs": [],
   "source": [
    "pprint(parsergen.ext_dictio)"
   ]
  },
  {
   "cell_type": "markdown",
   "metadata": {},
   "source": [
    "Disconnect from the device"
   ]
  },
  {
   "cell_type": "code",
   "execution_count": 32,
   "metadata": {},
   "outputs": [],
   "source": [
    "uut.disconnect()"
   ]
  },
  {
   "cell_type": "markdown",
   "metadata": {},
   "source": [
    "---"
   ]
  },
  {
   "cell_type": "markdown",
   "metadata": {},
   "source": [
    "### Using Markup Text to parse Non Tabular Output\n",
    "\n",
    "Rather than explicitly defining regular expressions for each item to retrieve, as an alternative\n",
    "we can use a special CLI command markup format that will automatically generate the regular\n",
    "expressions.\n",
    "\n",
    "If you have an iPython session running. Close and restart iPython\n",
    "\n",
    "Initiate an iPython interactive session and intialise the testbed"
   ]
  },
  {
   "cell_type": "code",
   "execution_count": null,
   "metadata": {},
   "outputs": [],
   "source": [
    "import pprint\n",
    "from genie.conf import Genie\n",
    "from genie import parsergen\n",
    "\n",
    "\n",
    "testbed = Genie.init('../scripts/vagrant_single_ios.yaml')\n",
    "uut = testbed.devices.iosxe1\n",
    "uut.connect()"
   ]
  },
  {
   "cell_type": "markdown",
   "metadata": {},
   "source": [
    "Enter the following to assign the _marked up_ string to the variable markedupIOSX"
   ]
  },
  {
   "cell_type": "code",
   "execution_count": null,
   "metadata": {},
   "outputs": [],
   "source": [
    "markedupIOSX = '''\n",
    "OS: iosxe\n",
    "CMD: show_nve_interface\n",
    "SHOWCMD: show nve interface {ifname}\n",
    "PREFIX: nve.intf\n",
    "ACTUAL:\n",
    "\n",
    "Interface: nve1, State: Admin Up, Oper Up, Encapsulation: Vxlan,\n",
    "BGP host reachability: Disable, VxLAN dport: 10000\n",
    "VNI number: L3CP 0 L2CP 0 L2DP 1\n",
    "source-interface: Loopback10 (primary:1.1.1.1 vrf:22)\n",
    "\n",
    "MARKUP:\n",
    "Interface: XW<ifname>Xnve1, State: Admin XW<state>XUp, Oper Up, Encapsulation: XW<encap>XVxlan,\n",
    "BGP host reachability: Disable, VxLAN dport: XN<udp_port>X1000\n",
    "VNI number: L3CP 0 L2CP 0 L2DP 1\n",
    "source-interface: XW<source_interface>XLoopback0 (primary:XA<primary_address>X1.1.1.1 vrf:XN<VRF>X22)'''"
   ]
  },
  {
   "cell_type": "markdown",
   "metadata": {},
   "source": [
    "You will notice in the string that there are some key components\n",
    "\n",
    "**OS:** Define the operating system being used  \n",
    "**CMD:** Used by parsergen as the dict key for the _SHOWCMD_  \n",
    "**SHOWCMD:** The actual show command to be issued  \n",
    "**PREFIX** Will be used to prefix the keys for each item parsed  \n",
    "**ACTUAL** Output expected from the device (optional)  \n",
    "**MARKUP** The Output with markup added. Will be used to identify items to parse\n",
    "\n",
    "The Markup itself begins and ends with **X** with the key name inbetween.  For example\n",
    "**XW\\<ifname>X**  will assign a value to the key nve.intf.**ifname**\n",
    "\n",
    "Full list of Markup tags are included at the bottom of this file.\n",
    "\n",
    "The remaining commands are similar to those used for parsing with regular expressions\n",
    "\n",
    "'Extend' the Parsergen Class to include the show commands and the regular expressions"
   ]
  },
  {
   "cell_type": "code",
   "execution_count": null,
   "metadata": {},
   "outputs": [],
   "source": [
    "parsergen.extend_markup(markedupIOSX)"
   ]
  },
  {
   "cell_type": "markdown",
   "metadata": {},
   "source": [
    "Now determine the parameters you wish to start the regex search on. The first item in the \n",
    "tuple is the key name of the regex value, the second item is the value being searched. In this instance\n",
    "only nve interfaces that have a Vxlan encapsulation are being considered"
   ]
  },
  {
   "cell_type": "code",
   "execution_count": null,
   "metadata": {},
   "outputs": [],
   "source": [
    "attrValPairsToCheck = [('nve.intf.encap', 'Vxlan'),]"
   ]
  },
  {
   "cell_type": "markdown",
   "metadata": {},
   "source": [
    "Create an object called pgfill from the parsergen.oper_fill method in order to create a dictionary of the parsed output. "
   ]
  },
  {
   "cell_type": "code",
   "execution_count": null,
   "metadata": {},
   "outputs": [],
   "source": [
    "pgfill = parsergen.oper_fill(device=uut,\n",
    "                             show_command=('show_nve_interface', [], {'ifname':'nve1'}),\n",
    "                             attrvalpairs=attrValPairsToCheck,\n",
    "                             refresh_cache=True, \n",
    "                             regex_tag_fill_pattern='nve\\.intf')"
   ]
  },
  {
   "cell_type": "markdown",
   "metadata": {},
   "source": [
    "Now call the parse method for the object pgfill"
   ]
  },
  {
   "cell_type": "code",
   "execution_count": null,
   "metadata": {},
   "outputs": [],
   "source": [
    "pgfill.parse()"
   ]
  },
  {
   "cell_type": "markdown",
   "metadata": {},
   "source": [
    "Print the parsed output"
   ]
  },
  {
   "cell_type": "code",
   "execution_count": null,
   "metadata": {},
   "outputs": [],
   "source": [
    "print(parsergen.ext_dictio)"
   ]
  },
  {
   "cell_type": "markdown",
   "metadata": {},
   "source": [
    "Disconnect from the device"
   ]
  },
  {
   "cell_type": "code",
   "execution_count": null,
   "metadata": {},
   "outputs": [],
   "source": [
    "uut.disconnect()"
   ]
  },
  {
   "cell_type": "markdown",
   "metadata": {},
   "source": [
    "**Mark Up Reference**\n",
    "\n",
    "The following are the available values for x in the XxX notation:\n",
    "\n",
    "* A - IPv4 or IPv6 address.  \n",
    "* B - Value terminated with a close brace, bracket, or parenthesis.\n",
    "* C - Value terminated with a comma.\n",
    "* F - Floating point number.\n",
    "* H - Hexidecimal number.\n",
    "* I - Interface name.\n",
    "* M - Mac address.\n",
    "* N - Decimal number.\n",
    "* R - everything else to the newline.\n",
    "* P - IPv4 or IPv6 prefix.\n",
    "* Q - Value terminated by a double quote.\n",
    "* S - Non-space value.\n",
    "* T - Time (00:00:00)\n",
    "* W - A word."
   ]
  },
  {
   "cell_type": "markdown",
   "metadata": {},
   "source": [
    "---"
   ]
  },
  {
   "cell_type": "markdown",
   "metadata": {},
   "source": [
    "### GENIE Creating an OPS object\n",
    "\n",
    "We are now going to create a VxLAN OPS object that will collate the output of the two parsers we created earlier.\n",
    "\n",
    "For the sake of brevity these two parsers have been defined within Classes in the file [iosxevxlan.py](../scripts/iosxevxlan.py).  \n",
    "The parsers are also inheriting from Genie Metaparser.  The configuration of Metaparser is outside the scope of this workshop\n",
    "but further details can be found at - [Metaparser](https://pubhub.devnetcloud.com/media/pyats-packages/docs/metaparser/index.html)\n"
   ]
  },
  {
   "cell_type": "code",
   "execution_count": null,
   "metadata": {},
   "outputs": [],
   "source": [
    "import pprint\n",
    "from genie.conf import Genie\n",
    "testbed = Genie.init('../scripts/vagrant_single_ios.yaml')\n",
    "uut = testbed.devices.iosxe1\n",
    "uut.connect()"
   ]
  },
  {
   "cell_type": "markdown",
   "metadata": {},
   "source": [
    "First we shall import from Genie ops the Base class.  We will create a class that will inherit from 'Base' to leverage the\n",
    "'Maker' functionality.  \n",
    "'Maker' simplifies the process of mapping parsers output to the ops object attributes. \n",
    "\n",
    "Further information on the Maker class can be found at [Maker](https://pubhub.devnetcloud.com/media/pyats-packages/docs/genie/Ops/developer/maker.html) \n",
    "\n",
    "In addition we will import the parsers that were created earlier.\n",
    "\n",
    "Enter the code below into your ipython session"
   ]
  },
  {
   "cell_type": "code",
   "execution_count": null,
   "metadata": {},
   "outputs": [],
   "source": [
    "from genie.ops.base import Base\n",
    "from iosxevxlan import ShowNveVni,ShowNvePeers"
   ]
  },
  {
   "cell_type": "markdown",
   "metadata": {},
   "source": [
    "We now create a class that will be our Ops object, named Vxlan.  This class inherits from the Base class of Genie Ops.  \n",
    "A method which referred to as _learn_ is created.  The remaining code performs the following functions  \n",
    "\n",
    "* Runs a for loop issuing the commands for the parsers and then adds data (add_leaf) to the new Ops object structure.\n",
    "* src is the dictionary item from the parsed output. For example '['(?P<interf>.*)][VNI]' will equate to the value of VNI (6001)\n",
    "* dest is where the data will be placed in the new object structure referenced as *info*.  In this case the src and dest keys are the same\n",
    "but this does not have to be the case\n",
    "* Finally the make() is invoked to finalise the new object structure."
   ]
  },
  {
   "cell_type": "code",
   "execution_count": null,
   "metadata": {},
   "outputs": [],
   "source": [
    "class Vxlan(Base):\n",
    "\n",
    "    def learn(self, custom=None):\n",
    "\n",
    "\n",
    "        # Capture output from ShowNveVni parser\n",
    "        src = '[(?P<interf>.*)]'\n",
    "        dest = 'info[(?P<interf>.*)]'\n",
    "        req_keys = ['[VNI]','[Multicast-group]','[VNIstate]','[Mode]']\n",
    "        for key in req_keys:\n",
    "            self.add_leaf(cmd=ShowNveVni,\n",
    "                          src=src + '[{}]'.format(key),\n",
    "                          dest=dest + '[{}]'.format(key))\n",
    "\n",
    "\n",
    "        # Capture ouptut from ShowNveVni parser\n",
    "        src = '[(?P<nvename>.*)]'\n",
    "        dest = 'info[(?P<nvename>.*)]'\n",
    "        req_keys = ['[Peer-IP]','[Router-RMAC]','[Type]','[state]']\n",
    "        for key in req_keys:\n",
    "            self.add_leaf(cmd=ShowNvePeers,\n",
    "                          src=src + '[{}]'.format(key),\n",
    "                          dest=dest + '[{}]'.format(key))\n",
    "\n",
    "        #Add ops data to the Vxlan ojbect\n",
    "        self.make()"
   ]
  },
  {
   "cell_type": "markdown",
   "metadata": {},
   "source": [
    "Finally create a new ops object called myvxlan and learn from the device"
   ]
  },
  {
   "cell_type": "code",
   "execution_count": null,
   "metadata": {},
   "outputs": [],
   "source": [
    "myvxlan = Vxlan(device=uut)"
   ]
  },
  {
   "cell_type": "code",
   "execution_count": null,
   "metadata": {},
   "outputs": [],
   "source": [
    "myvxlan.learn()"
   ]
  },
  {
   "cell_type": "code",
   "execution_count": null,
   "metadata": {},
   "outputs": [],
   "source": [
    "myvxlan.info"
   ]
  },
  {
   "cell_type": "markdown",
   "metadata": {},
   "source": [
    "Disconnect from the device"
   ]
  },
  {
   "cell_type": "code",
   "execution_count": null,
   "metadata": {},
   "outputs": [],
   "source": [
    "uut.disconnect()"
   ]
  },
  {
   "cell_type": "markdown",
   "metadata": {},
   "source": [
    "### You have successfully created a VxLAN Ops Model."
   ]
  }
 ],
 "metadata": {
  "kernelspec": {
   "display_name": "Python 3",
   "language": "python",
   "name": "python3"
  },
  "language_info": {
   "codemirror_mode": {
    "name": "ipython",
    "version": 3
   },
   "file_extension": ".py",
   "mimetype": "text/x-python",
   "name": "python",
   "nbconvert_exporter": "python",
   "pygments_lexer": "ipython3",
   "version": "3.6.5"
  }
 },
 "nbformat": 4,
 "nbformat_minor": 2
}
